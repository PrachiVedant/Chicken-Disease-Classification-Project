{
 "cells": [
  {
   "cell_type": "code",
   "execution_count": 1,
   "id": "2fa77bf8",
   "metadata": {},
   "outputs": [],
   "source": [
    "import os"
   ]
  },
  {
   "cell_type": "code",
   "execution_count": 2,
   "id": "322f5775",
   "metadata": {},
   "outputs": [
    {
     "data": {
      "text/plain": [
       "'c:\\\\Users\\\\Prachi\\\\Documents\\\\Chicken-Disease-Classification-Project\\\\research'"
      ]
     },
     "execution_count": 2,
     "metadata": {},
     "output_type": "execute_result"
    }
   ],
   "source": [
    "%pwd"
   ]
  },
  {
   "cell_type": "code",
   "execution_count": 3,
   "id": "ca632e98",
   "metadata": {},
   "outputs": [],
   "source": [
    "os.chdir(\"../\")"
   ]
  },
  {
   "cell_type": "code",
   "execution_count": 4,
   "id": "e39b5763",
   "metadata": {},
   "outputs": [
    {
     "data": {
      "text/plain": [
       "'c:\\\\Users\\\\Prachi\\\\Documents\\\\Chicken-Disease-Classification-Project'"
      ]
     },
     "execution_count": 4,
     "metadata": {},
     "output_type": "execute_result"
    }
   ],
   "source": [
    "%pwd"
   ]
  },
  {
   "cell_type": "code",
   "execution_count": 22,
   "id": "9ad7f23b",
   "metadata": {},
   "outputs": [],
   "source": [
    "from dataclasses import dataclass\n",
    "from pathlib import Path\n",
    "\n",
    "@dataclass(frozen=True)\n",
    "class TrainingModelConfig:\n",
    "    root_dir : Path\n",
    "    trained_model_path : Path\n",
    "    updated_base_model_path : Path\n",
    "    training_data : Path\n",
    "    params_epochs : int\n",
    "    params_batch_size : int\n",
    "    params_is_augmentation : bool\n",
    "    params_img_size : list\n",
    "\n",
    "@dataclass(frozen=True)\n",
    "class PrepareCallBacksConfig:\n",
    "    root_dir : Path\n",
    "    tensorboard_root_log_dir : Path\n",
    "    checkpoint_model_filepath : Path\n"
   ]
  },
  {
   "cell_type": "code",
   "execution_count": 8,
   "id": "3c7a32e6",
   "metadata": {},
   "outputs": [],
   "source": [
    "from cnnClassifier.constants import *\n",
    "from cnnClassifier.utils.common import read_yaml,create_directories"
   ]
  },
  {
   "cell_type": "code",
   "execution_count": 9,
   "id": "69c403eb",
   "metadata": {},
   "outputs": [
    {
     "name": "stdout",
     "output_type": "stream",
     "text": [
      "Config file path: C:\\Users\\Prachi\\Documents\\Chicken-Disease-Classification-Project\\config\\config.yaml\n",
      "Params file path: C:\\Users\\Prachi\\Documents\\Chicken-Disease-Classification-Project\\params.yaml\n",
      "Config exists? True\n",
      "Params exists? True\n"
     ]
    }
   ],
   "source": [
    "from pathlib import Path\n",
    "\n",
    "project_root = Path(r\"C:\\Users\\Prachi\\Documents\\Chicken-Disease-Classification-Project\")\n",
    "\n",
    "CONFIG_FILE_PATH = project_root / \"config\" / \"config.yaml\"\n",
    "PARAMS_FILE_PATH = project_root / \"params.yaml\"\n",
    "\n",
    "print(\"Config file path:\", CONFIG_FILE_PATH)\n",
    "print(\"Params file path:\", PARAMS_FILE_PATH)\n",
    "\n",
    "print(\"Config exists?\", CONFIG_FILE_PATH.is_file())\n",
    "print(\"Params exists?\", PARAMS_FILE_PATH.is_file())\n"
   ]
  },
  {
   "cell_type": "code",
   "execution_count": 49,
   "id": "fb085fda",
   "metadata": {},
   "outputs": [],
   "source": [
    "class ConfigurationManager:\n",
    "    def __init__ (self,\n",
    "                 config_filepath = CONFIG_FILE_PATH,\n",
    "                 params_filepath = PARAMS_FILE_PATH):\n",
    "        self.config = read_yaml(config_filepath)\n",
    "        self.params = read_yaml(params_filepath)\n",
    "\n",
    "        create_directories([self.config.artifacts_root], verbose=True)\n",
    "\n",
    "    def get_prepare_callbacks_config (self) -> PrepareCallBacksConfig : \n",
    "        config = self.config.prepare_callbacks\n",
    "        model_ckpt_dir = os.path.dirname(config.checkpoint_model_filepath)\n",
    "        create_directories([Path(model_ckpt_dir),\n",
    "                            Path(config.tensorboard_root_log_dir)],verbose = True)\n",
    "            \n",
    "        prepare_callback_config = PrepareCallBacksConfig(\n",
    "            root_dir= Path(config.root_dir),\n",
    "            checkpoint_model_filepath = Path(config.checkpoint_model_filepath),\n",
    "            tensorboard_root_log_dir = Path(config.tensorboard_root_log_dir)\n",
    "        )\n",
    "            \n",
    "        return prepare_callback_config \n",
    "    \n",
    "    def get_training_config(self) -> TrainingModelConfig:\n",
    "        training = self.config.training\n",
    "        prepare_base_model_config = self.get_prepare_base_model_config()\n",
    "        params = self.params\n",
    "\n",
    "        training_data = os.path.join(self.config.data_ingestion.unzip_dir, \"Chicken-fecal-images\")\n",
    "        create_directories([training.root_dir], verbose=True)\n",
    "\n",
    "        training_config = TrainingModelConfig(\n",
    "        root_dir=training.root_dir,\n",
    "        trained_model_path=training.trained_model_path,\n",
    "        updated_base_model_path=prepare_base_model_config.updated_base_model_path,\n",
    "        training_data=training_data,\n",
    "        params_epochs=params.EPOCHS,\n",
    "        params_batch_size=params.BATCH_SIZE,\n",
    "        params_is_augmentation=params.AUGMENTATION,\n",
    "        params_img_size=params.IMAGE_SIZE\n",
    "    )\n",
    "\n",
    "        return training_config\n",
    "\n"
   ]
  },
  {
   "cell_type": "code",
   "execution_count": 15,
   "id": "cf14918a",
   "metadata": {},
   "outputs": [],
   "source": [
    "import time\n",
    "import tensorflow as tf"
   ]
  },
  {
   "cell_type": "code",
   "execution_count": 16,
   "id": "4ed6f0ef",
   "metadata": {},
   "outputs": [],
   "source": [
    "class PrepareCallbacks:\n",
    "    def __init__ (self, config:PrepareCallBacksConfig):\n",
    "        self.config = config\n",
    "\n",
    "    @property\n",
    "    def _create_tb_callbacks(self):\n",
    "        timestamp = time.strftime(\"%Y-%m-%d-%H-%M-%S\")\n",
    "        tb_running_log_dir = os.path.join(\n",
    "            self.config.tensorboard_root_log_dir,\n",
    "            f\"tb_logs_at_{timestamp}\",\n",
    "        )\n",
    "        return tf.keras.callbacks.TensorBoard(log_dir=tb_running_log_dir)\n",
    "    \n",
    "\n",
    "    @property\n",
    "    def _create_ckpt_callbacks(self):\n",
    "        return tf.keras.callbacks.ModelCheckpoint(\n",
    "            filepath=self.config.checkpoint_model_filepath,\n",
    "            save_best_only=True\n",
    "        )\n",
    "\n",
    "\n",
    "    def get_tb_ckpt_callbacks(self):\n",
    "        return [\n",
    "            self._create_tb_callbacks,\n",
    "            self._create_ckpt_callbacks\n",
    "        ] "
   ]
  },
  {
   "cell_type": "code",
   "execution_count": null,
   "id": "487117e8",
   "metadata": {},
   "outputs": [],
   "source": [
    "from pathlib import Path\n",
    "import os\n",
    "import urllib.request as request\n",
    "from zipfile import ZipFile\n",
    "from cnnClassifier import logger\n",
    "import time\n",
    "import tensorflow as tf\n",
    "tf.config.run_functions_eagerly(True)  \n",
    "import tensorflow as tf\n",
    "tf.config.run_functions_eagerly(True) \n",
    "\n",
    "\n"
   ]
  },
  {
   "cell_type": "code",
   "execution_count": 47,
   "id": "1de1e867",
   "metadata": {},
   "outputs": [
    {
     "name": "stdout",
     "output_type": "stream",
     "text": [
      "Eager execution: True\n"
     ]
    }
   ],
   "source": [
    "tf.config.run_functions_eagerly(True)\n",
    "print(\"Eager execution:\", tf.executing_eagerly())\n",
    "class Training :\n",
    "    def __init__(self, config : TrainingModelConfig):\n",
    "        self.config = config\n",
    "        \n",
    "\n",
    "    # load the model\n",
    "    def get_base_model(self):\n",
    "        self.model= tf.keras.models.load_model(self.config.updated_base_model_path)\n",
    "        self.model.compile(\n",
    "            optimizer=tf.keras.optimizers.SGD(),\n",
    "            loss='categorical_crossentropy',\n",
    "            metrics=['accuracy']\n",
    "        )\n",
    "\n",
    "    def train_valid_generator(self):\n",
    "        # create a data generator for training and validation data\n",
    "        datagenerator_kwargs = dict(\n",
    "            rescale = 1./255,\n",
    "            validation_split = 0.20\n",
    "        )\n",
    "        dataflow_kwargs = dict(\n",
    "            target_size=self.config.params_img_size[:-1],\n",
    "            batch_size=self.config.params_batch_size,\n",
    "            interpolation=\"bilinear\"\n",
    "        )\n",
    "        # reads the image and picks only the validation data\n",
    "        valid_datageneartor = tf.keras.preprocessing.image.ImageDataGenerator(** datagenerator_kwargs)\n",
    "\n",
    "        self.valid_generator = valid_datageneartor.flow_from_directory(\n",
    "            directory = self.config.training_data,\n",
    "            subset= \"validation\",\n",
    "            shuffle = False,\n",
    "            **dataflow_kwargs\n",
    "        )\n",
    "        if self.config.params_is_augmentation :\n",
    "            train_datagenerator = tf.keras.preprocessing.image.ImageDataGenerator(\n",
    "                rotation_range = 40,\n",
    "                horizontal_flip = True,\n",
    "                width_shift_range = 0.2,\n",
    "                height_shift_range = 0.2,\n",
    "                shear_range = 0.2,\n",
    "                zoom_range=0.2,\n",
    "                ** datagenerator_kwargs\n",
    "            )\n",
    "        else:\n",
    "            train_datagenerator = valid_datageneartor\n",
    "\n",
    "        self.train_generator = train_datagenerator.flow_from_directory(\n",
    "            directory=self.config.training_data,\n",
    "            subset=\"training\",\n",
    "            shuffle=True,\n",
    "            **dataflow_kwargs\n",
    "        )\n",
    "    @staticmethod\n",
    "    def save_model(path : Path , model : tf.keras.Model):\n",
    "        model.save(path)\n",
    "\n",
    "    def train(self, callbacks_list: list):\n",
    "        self.steps_per_epochs = self.train_generator.samples // self.train_generator.batch_size\n",
    "        self.validation_steps = self.valid_generator.samples // self.valid_generator.batch_size\n",
    "\n",
    "        #training the model\n",
    "        self.model.fit(\n",
    "            self.train_generator,\n",
    "            epochs=self.config.params_epochs,\n",
    "            validation_steps=self.validation_steps,\n",
    "            validation_data = self.valid_generator,\n",
    "            callbacks = callbacks_list\n",
    "            \n",
    "        )\n",
    "\n",
    "        self.save_model(\n",
    "            path = self.config.trained_model_path,\n",
    "            model = self.model\n",
    "        )\n",
    "\n",
    "\n",
    "\n",
    "\n",
    "\n",
    "\n",
    "    "
   ]
  },
  {
   "cell_type": "code",
   "execution_count": 48,
   "id": "dcda63a6",
   "metadata": {},
   "outputs": [
    {
     "name": "stdout",
     "output_type": "stream",
     "text": [
      "✅ DEBUG YAML PATH: C:\\Users\\Prachi\\Documents\\Chicken-Disease-Classification-Project\\config\\config.yaml\n",
      "✅ DEBUG YAML CONTENT: {'artifacts_root': 'artifacts', 'data_ingestion': {'root_dir': 'artifacts/data_ingestion', 'source_url': 'https://github.com/PrachiVedant/datasets/raw/refs/heads/main/Chicken-fecal-images.zip', 'local_data_file': 'artifacts/data_ingestion/data.zip', 'unzip_dir': 'artifacts/data_ingestion'}, 'prepare_base_model': {'root_dir': 'artifacts/prepare_base_model', 'base_model_path': 'artifacts/prepare_base_model/base_model.h5', 'updated_base_model_path': 'artifacts/prepare_base_model/base_model_updated.h5'}, 'prepare_callbacks': {'root_dir': 'artifacts/prepare_callbacks', 'tensorboard_root_log_dir': 'artifacts/prepare_callbacks/tensorboard_log_dir', 'checkpoint_model_filepath': 'artifacts/prepare_callbacks/checkpoint_dir/model.h5'}, 'training': {'root_dir': 'artifacts/training', 'trained_model_path': ' artifacts/training/model.keras'}} <class 'dict'>\n",
      "✅ DEBUG YAML PATH: C:\\Users\\Prachi\\Documents\\Chicken-Disease-Classification-Project\\params.yaml\n",
      "✅ DEBUG YAML CONTENT: {'AUGMENTATION': True, 'IMAGE_SIZE': [224, 244, 3], 'BATCH_SIZE': 32, 'INCLUDE_TOP': False, 'EPOCHS': 1, 'CLASSES': 2, 'WEIGHTS': 'imagenet', 'LEARNING_RATE': 0.01} <class 'dict'>\n",
      "[2025-07-08 12:16:21,405 : INFO : common : Created directory at: artifacts]\n",
      "[2025-07-08 12:16:21,406 : INFO : common : Created directory at: artifacts\\prepare_callbacks\\checkpoint_dir]\n",
      "[2025-07-08 12:16:21,407 : INFO : common : Created directory at: artifacts\\prepare_callbacks\\tensorboard_log_dir]\n",
      "[2025-07-08 12:16:21,408 : INFO : common : Created directory at: artifacts/training]\n"
     ]
    },
    {
     "name": "stdout",
     "output_type": "stream",
     "text": [
      "[2025-07-08 12:16:21,559 : WARNING : saving_utils : Compiled the loaded model, but the compiled metrics have yet to be built. `model.compile_metrics` will be empty until you train or evaluate the model.]\n",
      "Found 78 images belonging to 2 classes.\n",
      "Found 312 images belonging to 2 classes.\n",
      "\u001b[1m10/10\u001b[0m \u001b[32m━━━━━━━━━━━━━━━━━━━━\u001b[0m\u001b[37m\u001b[0m \u001b[1m0s\u001b[0m 6s/step - accuracy: 0.5493 - loss: 8.0554[2025-07-08 12:17:30,640 : WARNING : saving_api : You are saving your model as an HDF5 file via `model.save()` or `keras.saving.save_model(model)`. This file format is considered legacy. We recommend using instead the native Keras format, e.g. `model.save('my_model.keras')` or `keras.saving.save_model(model, 'my_model.keras')`. ]\n",
      "\u001b[1m10/10\u001b[0m \u001b[32m━━━━━━━━━━━━━━━━━━━━\u001b[0m\u001b[37m\u001b[0m \u001b[1m68s\u001b[0m 7s/step - accuracy: 0.5480 - loss: 8.3321 - val_accuracy: 0.3906 - val_loss: 20.3451\n"
     ]
    }
   ],
   "source": [
    "try:\n",
    "    config = ConfigurationManager()\n",
    "    prepare_callbacks_config = config.get_prepare_callbacks_config()\n",
    "    prepare_callbacks = PrepareCallbacks(config=prepare_callbacks_config)\n",
    "    callback_list = prepare_callbacks.get_tb_ckpt_callbacks()\n",
    "\n",
    "    training_config = config.get_training_config()\n",
    "    training = Training(config=training_config)\n",
    "    training.get_base_model()\n",
    "    training.train_valid_generator()\n",
    "    training.train(\n",
    "        callbacks_list= callback_list\n",
    "    )\n",
    "    \n",
    "except Exception as e:\n",
    "    raise e\n",
    "\n"
   ]
  },
  {
   "cell_type": "code",
   "execution_count": 36,
   "id": "daeeac03",
   "metadata": {},
   "outputs": [
    {
     "name": "stdout",
     "output_type": "stream",
     "text": [
      "2.19.0\n"
     ]
    }
   ],
   "source": [
    "import tensorflow as tf\n",
    "print(tf.__version__)\n",
    "\n"
   ]
  },
  {
   "cell_type": "code",
   "execution_count": null,
   "id": "972613ad",
   "metadata": {},
   "outputs": [],
   "source": []
  }
 ],
 "metadata": {
  "kernelspec": {
   "display_name": "venv",
   "language": "python",
   "name": "python3"
  },
  "language_info": {
   "codemirror_mode": {
    "name": "ipython",
    "version": 3
   },
   "file_extension": ".py",
   "mimetype": "text/x-python",
   "name": "python",
   "nbconvert_exporter": "python",
   "pygments_lexer": "ipython3",
   "version": "3.10.11"
  }
 },
 "nbformat": 4,
 "nbformat_minor": 5
}
